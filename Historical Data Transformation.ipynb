{
 "cells": [
  {
   "cell_type": "code",
   "execution_count": 1,
   "id": "3490de17",
   "metadata": {},
   "outputs": [],
   "source": [
    "import pandas as pd\n",
    "from datetime import datetime, timedelta"
   ]
  },
  {
   "cell_type": "code",
   "execution_count": 2,
   "id": "4e8a22bc",
   "metadata": {},
   "outputs": [],
   "source": [
    "# Read the input CSV file\n",
    "input_file = 'input.csv'\n",
    "df = pd.read_csv(input_file, parse_dates=['Date of Joining', 'Date of Exit', 'Compensation 1 date', 'Compensation 2 date',\n",
    "                                           'Review 1 date', 'Review 2 date', 'Engagement 1 date', 'Engagement 2 date'])"
   ]
  },
  {
   "cell_type": "code",
   "execution_count": 3,
   "id": "39779f20",
   "metadata": {},
   "outputs": [],
   "source": [
    "# Initialize empty lists to store rows for the output CSV\n",
    "output_rows = []"
   ]
  },
  {
   "cell_type": "code",
   "execution_count": 4,
   "id": "033f9ed3",
   "metadata": {},
   "outputs": [],
   "source": [
    "# Iterate through each row of the input dataframe\n",
    "for index, row in df.iterrows():\n",
    "    start_date = row['Date of Joining']\n",
    "    end_date = row['Date of Exit'] if not pd.isnull(row['Date of Exit']) else datetime(2100, 1, 1)\n",
    "    \n",
    "    # Loop through compensation, review, and engagement columns\n",
    "    for col_prefix in ['Compensation', 'Review', 'Engagement']:\n",
    "        for i in range(1, 3):\n",
    "            col_name = f'{col_prefix} {i}'\n",
    "            date_col_name = f'{col_name} date'\n",
    "            \n",
    "            # If data is available for the current column\n",
    "            if not pd.isnull(row[col_name]):\n",
    "                # Calculate effective and end dates\n",
    "                effective_date = row[date_col_name]\n",
    "                end_date = min(row[date_col_name] - timedelta(days=1), end_date)\n",
    "                \n",
    "                # Add a row to the output list\n",
    "                output_rows.append([row['Employee Code'], row['Manager Employee Code'],\n",
    "                                    row[col_name], 0,  # Placeholder for Compensation\n",
    "                                    row[date_col_name], 0,  # Placeholder for Variable Pay\n",
    "                                    0,  # Placeholder for Tenure in Org\n",
    "                                    row[date_col_name], end_date])\n",
    "    \n",
    "    # Add a row for the last compensation with a far-future end date\n",
    "    output_rows.append([row['Employee Code'], row['Manager Employee Code'],\n",
    "                        row['Compensation'], 0,  # Placeholder for Compensation\n",
    "                        row['Compensation 1 date'], 0,  # Placeholder for Variable Pay\n",
    "                        0,  # Placeholder for Tenure in Org\n",
    "                        end_date, datetime(2100, 1, 1)])"
   ]
  },
  {
   "cell_type": "code",
   "execution_count": 5,
   "id": "fe39ea15",
   "metadata": {},
   "outputs": [],
   "source": [
    "# Create the output dataframe\n",
    "output_df = pd.DataFrame(output_rows, columns=['Employee Code', 'Manager Employee Code', 'Last Compensation',\n",
    "                                                'Compensation', 'Last Pay Raise Date', 'Variable Pay',\n",
    "                                                'Tenure in Org', 'Effective Date', 'End Date'])"
   ]
  },
  {
   "cell_type": "code",
   "execution_count": 6,
   "id": "9021149d",
   "metadata": {},
   "outputs": [],
   "source": [
    "# Write the output dataframe to a CSV file\n",
    "output_file = 'output.csv'\n",
    "output_df.to_csv(output_file, index=False)"
   ]
  },
  {
   "cell_type": "code",
   "execution_count": 7,
   "id": "d7fe9f7d",
   "metadata": {},
   "outputs": [
    {
     "name": "stdout",
     "output_type": "stream",
     "text": [
      "Output written to output.csv\n"
     ]
    }
   ],
   "source": [
    "print(f'Output written to {output_file}')"
   ]
  }
 ],
 "metadata": {
  "kernelspec": {
   "display_name": "Python 3 (ipykernel)",
   "language": "python",
   "name": "python3"
  },
  "language_info": {
   "codemirror_mode": {
    "name": "ipython",
    "version": 3
   },
   "file_extension": ".py",
   "mimetype": "text/x-python",
   "name": "python",
   "nbconvert_exporter": "python",
   "pygments_lexer": "ipython3",
   "version": "3.11.5"
  }
 },
 "nbformat": 4,
 "nbformat_minor": 5
}
